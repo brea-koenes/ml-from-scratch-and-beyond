{
 "cells": [
  {
   "cell_type": "markdown",
   "id": "f0c28c02-7a35-440e-ad42-6159a647fa7f",
   "metadata": {},
   "source": [
    "# Binary Classification Models\n",
    "#### Comparing models with and without Principal Component Analysis\n",
    "### By Brea Koenes"
   ]
  },
  {
   "cell_type": "markdown",
   "id": "eb1fb73a-e3ae-4d08-a6be-74b32934482d",
   "metadata": {},
   "source": [
    "#### Data\n",
    "This dataset contains attributes of mushrooms. Each row in the dataset is a mushroom, and the columns classify the features of that mushroom and the target variable (whether it is poisonous or not). \n",
    "\n",
    "#### Overview\n",
    "I create 2 machine learning models that can predict if a mushroom is edible or poisonous. One model uses PCA to reduce dimensionality, and the first model does not—this is to compare accuracy. The models are both binary classification models, as the target variable is binary."
   ]
  },
  {
   "cell_type": "markdown",
   "id": "4f33e931-702c-4607-af75-872db93ea1c7",
   "metadata": {},
   "source": [
    "1. Load and rename data."
   ]
  },
  {
   "cell_type": "code",
   "execution_count": 70,
   "id": "a770cbe3-068e-48cd-910b-c702a4e1366b",
   "metadata": {},
   "outputs": [],
   "source": [
    "# Imports \n",
    "import numpy as np\n",
    "import pandas as pd\n",
    "from sklearn.model_selection import train_test_split\n",
    "from sklearn.preprocessing import OneHotEncoder, LabelEncoder\n",
    "import tensorflow as tf\n",
    "from tensorflow.keras.models import Sequential\n",
    "from tensorflow.keras.layers import Dense\n",
    "from sklearn.metrics import ConfusionMatrixDisplay as cmd\n",
    "from sklearn.metrics import accuracy_score, recall_score, f1_score, precision_score, ConfusionMatrixDisplay\n",
    "from sklearn.decomposition import PCA\n",
    "from sklearn.preprocessing import StandardScaler"
   ]
  },
  {
   "cell_type": "code",
   "execution_count": 71,
   "id": "53a6b836-dbda-4cb3-8f5a-a2dfd9870cd3",
   "metadata": {},
   "outputs": [
    {
     "name": "stdout",
     "output_type": "stream",
     "text": [
      "Int64Index([ 0,  1,  2,  3,  4,  5,  6,  7,  8,  9, 10, 11, 12, 13, 14, 15, 16,\n",
      "            17, 18, 19, 20, 21, 22],\n",
      "           dtype='int64')\n"
     ]
    }
   ],
   "source": [
    "# Read in dataset\n",
    "df = pd.read_csv('agaricus-lepiota.csv',encoding='utf-8', header=None) \n",
    "\n",
    "# See all column names to rename them\n",
    "print(df.columns)"
   ]
  },
  {
   "cell_type": "code",
   "execution_count": 72,
   "id": "db0b19dd-bbb6-4419-ab05-5c61ec92daf3",
   "metadata": {},
   "outputs": [
    {
     "data": {
      "text/html": [
       "<div>\n",
       "<style scoped>\n",
       "    .dataframe tbody tr th:only-of-type {\n",
       "        vertical-align: middle;\n",
       "    }\n",
       "\n",
       "    .dataframe tbody tr th {\n",
       "        vertical-align: top;\n",
       "    }\n",
       "\n",
       "    .dataframe thead th {\n",
       "        text-align: right;\n",
       "    }\n",
       "</style>\n",
       "<table border=\"1\" class=\"dataframe\">\n",
       "  <thead>\n",
       "    <tr style=\"text-align: right;\">\n",
       "      <th></th>\n",
       "      <th>poisonous</th>\n",
       "      <th>cap-shape</th>\n",
       "      <th>cap-surface</th>\n",
       "      <th>cap-color</th>\n",
       "      <th>bruises</th>\n",
       "      <th>odor</th>\n",
       "      <th>gill-attachment</th>\n",
       "      <th>gill-spacing</th>\n",
       "      <th>gill-size</th>\n",
       "      <th>gill-color</th>\n",
       "      <th>...</th>\n",
       "      <th>stalk-surface-below-ring</th>\n",
       "      <th>stalk-color-above-ring</th>\n",
       "      <th>stalk-color-below-ring</th>\n",
       "      <th>veil-type</th>\n",
       "      <th>veil-color</th>\n",
       "      <th>ring-number</th>\n",
       "      <th>ring-type</th>\n",
       "      <th>spore-print-color</th>\n",
       "      <th>population</th>\n",
       "      <th>habitat</th>\n",
       "    </tr>\n",
       "  </thead>\n",
       "  <tbody>\n",
       "    <tr>\n",
       "      <th>0</th>\n",
       "      <td>p</td>\n",
       "      <td>x</td>\n",
       "      <td>s</td>\n",
       "      <td>n</td>\n",
       "      <td>t</td>\n",
       "      <td>p</td>\n",
       "      <td>f</td>\n",
       "      <td>c</td>\n",
       "      <td>n</td>\n",
       "      <td>k</td>\n",
       "      <td>...</td>\n",
       "      <td>s</td>\n",
       "      <td>w</td>\n",
       "      <td>w</td>\n",
       "      <td>p</td>\n",
       "      <td>w</td>\n",
       "      <td>o</td>\n",
       "      <td>p</td>\n",
       "      <td>k</td>\n",
       "      <td>s</td>\n",
       "      <td>u</td>\n",
       "    </tr>\n",
       "    <tr>\n",
       "      <th>1</th>\n",
       "      <td>e</td>\n",
       "      <td>x</td>\n",
       "      <td>s</td>\n",
       "      <td>y</td>\n",
       "      <td>t</td>\n",
       "      <td>a</td>\n",
       "      <td>f</td>\n",
       "      <td>c</td>\n",
       "      <td>b</td>\n",
       "      <td>k</td>\n",
       "      <td>...</td>\n",
       "      <td>s</td>\n",
       "      <td>w</td>\n",
       "      <td>w</td>\n",
       "      <td>p</td>\n",
       "      <td>w</td>\n",
       "      <td>o</td>\n",
       "      <td>p</td>\n",
       "      <td>n</td>\n",
       "      <td>n</td>\n",
       "      <td>g</td>\n",
       "    </tr>\n",
       "    <tr>\n",
       "      <th>2</th>\n",
       "      <td>e</td>\n",
       "      <td>b</td>\n",
       "      <td>s</td>\n",
       "      <td>w</td>\n",
       "      <td>t</td>\n",
       "      <td>l</td>\n",
       "      <td>f</td>\n",
       "      <td>c</td>\n",
       "      <td>b</td>\n",
       "      <td>n</td>\n",
       "      <td>...</td>\n",
       "      <td>s</td>\n",
       "      <td>w</td>\n",
       "      <td>w</td>\n",
       "      <td>p</td>\n",
       "      <td>w</td>\n",
       "      <td>o</td>\n",
       "      <td>p</td>\n",
       "      <td>n</td>\n",
       "      <td>n</td>\n",
       "      <td>m</td>\n",
       "    </tr>\n",
       "    <tr>\n",
       "      <th>3</th>\n",
       "      <td>p</td>\n",
       "      <td>x</td>\n",
       "      <td>y</td>\n",
       "      <td>w</td>\n",
       "      <td>t</td>\n",
       "      <td>p</td>\n",
       "      <td>f</td>\n",
       "      <td>c</td>\n",
       "      <td>n</td>\n",
       "      <td>n</td>\n",
       "      <td>...</td>\n",
       "      <td>s</td>\n",
       "      <td>w</td>\n",
       "      <td>w</td>\n",
       "      <td>p</td>\n",
       "      <td>w</td>\n",
       "      <td>o</td>\n",
       "      <td>p</td>\n",
       "      <td>k</td>\n",
       "      <td>s</td>\n",
       "      <td>u</td>\n",
       "    </tr>\n",
       "    <tr>\n",
       "      <th>4</th>\n",
       "      <td>e</td>\n",
       "      <td>x</td>\n",
       "      <td>s</td>\n",
       "      <td>g</td>\n",
       "      <td>f</td>\n",
       "      <td>n</td>\n",
       "      <td>f</td>\n",
       "      <td>w</td>\n",
       "      <td>b</td>\n",
       "      <td>k</td>\n",
       "      <td>...</td>\n",
       "      <td>s</td>\n",
       "      <td>w</td>\n",
       "      <td>w</td>\n",
       "      <td>p</td>\n",
       "      <td>w</td>\n",
       "      <td>o</td>\n",
       "      <td>e</td>\n",
       "      <td>n</td>\n",
       "      <td>a</td>\n",
       "      <td>g</td>\n",
       "    </tr>\n",
       "  </tbody>\n",
       "</table>\n",
       "<p>5 rows × 23 columns</p>\n",
       "</div>"
      ],
      "text/plain": [
       "  poisonous cap-shape cap-surface cap-color bruises odor gill-attachment  \\\n",
       "0         p         x           s         n       t    p               f   \n",
       "1         e         x           s         y       t    a               f   \n",
       "2         e         b           s         w       t    l               f   \n",
       "3         p         x           y         w       t    p               f   \n",
       "4         e         x           s         g       f    n               f   \n",
       "\n",
       "  gill-spacing gill-size gill-color  ... stalk-surface-below-ring  \\\n",
       "0            c         n          k  ...                        s   \n",
       "1            c         b          k  ...                        s   \n",
       "2            c         b          n  ...                        s   \n",
       "3            c         n          n  ...                        s   \n",
       "4            w         b          k  ...                        s   \n",
       "\n",
       "  stalk-color-above-ring stalk-color-below-ring veil-type veil-color  \\\n",
       "0                      w                      w         p          w   \n",
       "1                      w                      w         p          w   \n",
       "2                      w                      w         p          w   \n",
       "3                      w                      w         p          w   \n",
       "4                      w                      w         p          w   \n",
       "\n",
       "  ring-number ring-type spore-print-color population habitat  \n",
       "0           o         p                 k          s       u  \n",
       "1           o         p                 n          n       g  \n",
       "2           o         p                 n          n       m  \n",
       "3           o         p                 k          s       u  \n",
       "4           o         e                 n          a       g  \n",
       "\n",
       "[5 rows x 23 columns]"
      ]
     },
     "execution_count": 72,
     "metadata": {},
     "output_type": "execute_result"
    }
   ],
   "source": [
    "# Rename columns based on .names file\n",
    "df = df.rename(columns={0: 'poisonous', 1: 'cap-shape', 2: 'cap-surface', 3: 'cap-color', 4: 'bruises', 5: 'odor', \n",
    "                        6: 'gill-attachment', 7: 'gill-spacing', 8: 'gill-size', 9: 'gill-color', 10: 'stalk-shape', \n",
    "                        11: 'stalk-root', 12: 'stalk-surface-above-ring', 13: 'stalk-surface-below-ring', \n",
    "                        14: 'stalk-color-above-ring', 15: 'stalk-color-below-ring', 16: 'veil-type', 17: 'veil-color', \n",
    "                        18: 'ring-number', 19: 'ring-type', 20: 'spore-print-color', 21: 'population', 22: 'habitat'})\n",
    "\n",
    "# Look at data\n",
    "df.head()"
   ]
  },
  {
   "cell_type": "markdown",
   "id": "076eb6dc-f348-4a9f-83ab-b95f5cd61436",
   "metadata": {},
   "source": [
    "2. Split the data into Train and Test sets."
   ]
  },
  {
   "cell_type": "code",
   "execution_count": 73,
   "id": "82b00904-c6a2-4b0e-a270-2f462f19754e",
   "metadata": {},
   "outputs": [
    {
     "name": "stdout",
     "output_type": "stream",
     "text": [
      "(6499, 22)\n",
      "(6499,)\n",
      "(1625, 22)\n",
      "(1625,)\n"
     ]
    }
   ],
   "source": [
    "# Seperate features and target variable\n",
    "x = df.drop(columns=['poisonous']) # Features\n",
    "y = df['poisonous'] # Target \n",
    "\n",
    "# Split the data into training and testing sets\n",
    "x_train, x_test, y_train, y_test = train_test_split(x, y, test_size=0.2, stratify=y, random_state=42) # 80% train, 20% test\n",
    "\n",
    "# Ensure they split correctly\n",
    "print(x_train.shape)\n",
    "print(y_train.shape)\n",
    "print(x_test.shape)\n",
    "print(y_test.shape)"
   ]
  },
  {
   "cell_type": "markdown",
   "id": "41153403-6bee-4cd8-b61a-ff6042c59bbe",
   "metadata": {},
   "source": [
    "3. One-Hot Encode the features and Label Encode the responses of the training data."
   ]
  },
  {
   "cell_type": "code",
   "execution_count": 74,
   "id": "35c076ef-16dc-439f-b979-baec540b5309",
   "metadata": {},
   "outputs": [
    {
     "name": "stdout",
     "output_type": "stream",
     "text": [
      "(6499, 116)\n",
      "(6499,)\n",
      "(1625, 116)\n",
      "(1625,)\n"
     ]
    },
    {
     "name": "stderr",
     "output_type": "stream",
     "text": [
      "/opt/anaconda3/envs/dtsc680/lib/python3.8/site-packages/sklearn/preprocessing/_encoders.py:868: FutureWarning: `sparse` was renamed to `sparse_output` in version 1.2 and will be removed in 1.4. `sparse_output` is ignored unless you leave `sparse` to its default value.\n",
      "  warnings.warn(\n"
     ]
    }
   ],
   "source": [
    "# One-Hot Encode categorical features\n",
    "encoder = OneHotEncoder(handle_unknown='ignore', sparse=False)\n",
    "x_train = encoder.fit_transform(x_train)\n",
    "\n",
    "# Label Encode the target variable\n",
    "label_encoder = LabelEncoder()\n",
    "y_train = label_encoder.fit_transform(y_train)\n",
    "\n",
    "# Encode the test set too, as both must be the same for training model part\n",
    "x_test = encoder.transform(x_test)\n",
    "y_test = label_encoder.transform(y_test)\n",
    "\n",
    "# Ensure shape is correct\n",
    "print(x_train.shape)\n",
    "print(y_train.shape)\n",
    "print(x_test.shape)\n",
    "print(y_test.shape)"
   ]
  },
  {
   "cell_type": "markdown",
   "id": "ac8c5675-0c24-4a65-90c7-992550e8e7ec",
   "metadata": {},
   "source": [
    "4. Create a sequential neural network model for prediction on this data with an\n",
    "input and output layer."
   ]
  },
  {
   "cell_type": "code",
   "execution_count": 75,
   "id": "4496063d-78a0-4113-a2f6-421bee6254fd",
   "metadata": {},
   "outputs": [],
   "source": [
    "# Create the model\n",
    "model = Sequential()\n",
    "model.add(Dense(16, input_dim=x_train.shape[1], activation='relu'))  # Input layer \n",
    "model.add(Dense(1, activation='sigmoid'))  # Output layer (binary classification because target is binary)\n",
    "\n",
    "# Compile the model\n",
    "model.compile(loss='binary_crossentropy', optimizer='adam', metrics=['accuracy'])"
   ]
  },
  {
   "cell_type": "markdown",
   "id": "40b690f2-072a-4750-b303-abc7afa9b2e2",
   "metadata": {},
   "source": [
    "5. Train the model using the training data."
   ]
  },
  {
   "cell_type": "code",
   "execution_count": 76,
   "id": "41315498-1ef4-4b16-a5ec-2bc61c6f7605",
   "metadata": {},
   "outputs": [
    {
     "name": "stdout",
     "output_type": "stream",
     "text": [
      "Epoch 1/10\n",
      "204/204 [==============================] - 0s 513us/step - loss: 0.2926 - accuracy: 0.9117 - val_loss: 0.0913 - val_accuracy: 0.9852\n",
      "Epoch 2/10\n",
      "204/204 [==============================] - 0s 299us/step - loss: 0.0527 - accuracy: 0.9937 - val_loss: 0.0299 - val_accuracy: 0.9963\n",
      "Epoch 3/10\n",
      "204/204 [==============================] - 0s 289us/step - loss: 0.0191 - accuracy: 0.9983 - val_loss: 0.0140 - val_accuracy: 0.9982\n",
      "Epoch 4/10\n",
      "204/204 [==============================] - 0s 290us/step - loss: 0.0095 - accuracy: 0.9991 - val_loss: 0.0084 - val_accuracy: 0.9982\n",
      "Epoch 5/10\n",
      "204/204 [==============================] - 0s 286us/step - loss: 0.0057 - accuracy: 0.9997 - val_loss: 0.0054 - val_accuracy: 0.9994\n",
      "Epoch 6/10\n",
      "204/204 [==============================] - 0s 289us/step - loss: 0.0037 - accuracy: 1.0000 - val_loss: 0.0038 - val_accuracy: 1.0000\n",
      "Epoch 7/10\n",
      "204/204 [==============================] - 0s 288us/step - loss: 0.0026 - accuracy: 1.0000 - val_loss: 0.0030 - val_accuracy: 0.9994\n",
      "Epoch 8/10\n",
      "204/204 [==============================] - 0s 287us/step - loss: 0.0019 - accuracy: 1.0000 - val_loss: 0.0023 - val_accuracy: 1.0000\n",
      "Epoch 9/10\n",
      "204/204 [==============================] - 0s 287us/step - loss: 0.0014 - accuracy: 1.0000 - val_loss: 0.0017 - val_accuracy: 1.0000\n",
      "Epoch 10/10\n",
      "204/204 [==============================] - 0s 288us/step - loss: 0.0011 - accuracy: 1.0000 - val_loss: 0.0014 - val_accuracy: 1.0000\n",
      "CPU times: user 887 ms, sys: 218 ms, total: 1.1 s\n",
      "Wall time: 788 ms\n"
     ]
    }
   ],
   "source": [
    "%%time\n",
    "\n",
    "# Train the model\n",
    "hist = model.fit(x_train, y_train, \n",
    "                    epochs=10, \n",
    "                    batch_size=32, \n",
    "                    validation_data=(x_test, y_test),\n",
    "                    verbose=1)"
   ]
  },
  {
   "cell_type": "markdown",
   "id": "4cc4c637-dfe6-40b3-bf89-6165e5ba547f",
   "metadata": {},
   "source": [
    "6. Use a Confusion Matrix to analyze the results of the network."
   ]
  },
  {
   "cell_type": "code",
   "execution_count": 77,
   "id": "122fe145-a603-4bcd-9bc9-187ddcb945ca",
   "metadata": {},
   "outputs": [
    {
     "name": "stdout",
     "output_type": "stream",
     "text": [
      "51/51 [==============================] - 0s 181us/step\n"
     ]
    },
    {
     "data": {
      "image/png": "[encoded data removed]",
      "text/plain": [
       "<Figure size 640x480 with 2 Axes>"
      ]
     },
     "metadata": {},
     "output_type": "display_data"
    }
   ],
   "source": [
    "# Get raw probability predictions\n",
    "y_pred_probs = model.predict(x_test)\n",
    "\n",
    "# Convert probabilities to binary predictions to be compatible with confusion matrix\n",
    "y_pred = (y_pred_probs > 0.5).astype(int).flatten()\n",
    "\n",
    "# Create Confusion Matrix\n",
    "import matplotlib.pyplot as plt\n",
    "from sklearn.metrics import confusion_matrix, ConfusionMatrixDisplay \n",
    "\n",
    "# Compute confusion matrix\n",
    "cm = confusion_matrix(y_test,y_pred)\n",
    "\n",
    "display = ConfusionMatrixDisplay(confusion_matrix=cm, display_labels=[\"Edible\", \"Poisonous\"]) \n",
    "display.plot(cmap='Blues')\n",
    "plt.show()"
   ]
  },
  {
   "cell_type": "markdown",
   "id": "7efa2f6d-86e0-4a25-9efc-7f0b0937724c",
   "metadata": {},
   "source": [
    "7. Perform dimensionality reduction using PCA, keeping 95% of the variance."
   ]
  },
  {
   "cell_type": "code",
   "execution_count": 78,
   "id": "ad9be9c5-00c0-4169-84b6-eccea292aeb2",
   "metadata": {},
   "outputs": [],
   "source": [
    "# Perform dimensionality reduction using PCA \n",
    "scaler = StandardScaler() # Scale data\n",
    "x_train_pca = scaler.fit_transform(x_train)\n",
    "x_test_pca = scaler.transform(x_test)\n",
    "\n",
    "pca = PCA(n_components=0.95) # Keep 95% of the variance\n",
    "\n",
    "x_train_pca = pca.fit_transform(x_train)\n",
    "x_test_pca = pca.transform(x_test)"
   ]
  },
  {
   "cell_type": "markdown",
   "id": "e5217895-d823-491f-8087-a3cbc43ba9e1",
   "metadata": {},
   "source": [
    "8. Create and train a new neural network on the PCA’ed data."
   ]
  },
  {
   "cell_type": "code",
   "execution_count": 79,
   "id": "e1d2d0ba-66ee-49f8-b9c4-033c6c1274fe",
   "metadata": {},
   "outputs": [],
   "source": [
    "# Create the model\n",
    "model_pca = Sequential()\n",
    "model_pca.add(Dense(32, input_dim=x_train_pca.shape[1], activation='relu'))  # Input layer\n",
    "model_pca.add(Dense(1, activation='sigmoid'))  # Output layer (binary classification because target is binary)\n",
    "\n",
    "# Compile the model\n",
    "model_pca.compile(loss='binary_crossentropy', optimizer='adam', metrics=['accuracy'])"
   ]
  },
  {
   "cell_type": "code",
   "execution_count": 80,
   "id": "bb728847-164a-468f-a41b-4a7dd52105e8",
   "metadata": {},
   "outputs": [
    {
     "name": "stdout",
     "output_type": "stream",
     "text": [
      "Epoch 1/10\n",
      "204/204 [==============================] - 0s 512us/step - loss: 0.3235 - accuracy: 0.9203 - val_loss: 0.1322 - val_accuracy: 0.9822\n",
      "Epoch 2/10\n",
      "204/204 [==============================] - 0s 293us/step - loss: 0.0822 - accuracy: 0.9865 - val_loss: 0.0537 - val_accuracy: 0.9895\n",
      "Epoch 3/10\n",
      "204/204 [==============================] - 0s 285us/step - loss: 0.0383 - accuracy: 0.9937 - val_loss: 0.0315 - val_accuracy: 0.9963\n",
      "Epoch 4/10\n",
      "204/204 [==============================] - 0s 286us/step - loss: 0.0228 - accuracy: 0.9978 - val_loss: 0.0207 - val_accuracy: 0.9963\n",
      "Epoch 5/10\n",
      "204/204 [==============================] - 0s 286us/step - loss: 0.0150 - accuracy: 0.9985 - val_loss: 0.0146 - val_accuracy: 0.9963\n",
      "Epoch 6/10\n",
      "204/204 [==============================] - 0s 285us/step - loss: 0.0104 - accuracy: 0.9989 - val_loss: 0.0104 - val_accuracy: 0.9988\n",
      "Epoch 7/10\n",
      "204/204 [==============================] - 0s 285us/step - loss: 0.0076 - accuracy: 0.9995 - val_loss: 0.0077 - val_accuracy: 0.9994\n",
      "Epoch 8/10\n",
      "204/204 [==============================] - 0s 285us/step - loss: 0.0056 - accuracy: 0.9998 - val_loss: 0.0058 - val_accuracy: 1.0000\n",
      "Epoch 9/10\n",
      "204/204 [==============================] - 0s 285us/step - loss: 0.0043 - accuracy: 1.0000 - val_loss: 0.0046 - val_accuracy: 1.0000\n",
      "Epoch 10/10\n",
      "204/204 [==============================] - 0s 286us/step - loss: 0.0033 - accuracy: 1.0000 - val_loss: 0.0037 - val_accuracy: 1.0000\n",
      "CPU times: user 881 ms, sys: 208 ms, total: 1.09 s\n",
      "Wall time: 775 ms\n"
     ]
    }
   ],
   "source": [
    "%%time\n",
    "\n",
    "# Train the model\n",
    "hist = model_pca.fit(x_train_pca, y_train, \n",
    "                    epochs=10, \n",
    "                    batch_size=32, \n",
    "                    validation_data=(x_test_pca, y_test),\n",
    "                    verbose=1)"
   ]
  },
  {
   "cell_type": "markdown",
   "id": "40f5224a-309e-4fb5-8188-0378537854e7",
   "metadata": {},
   "source": [
    "9. Use Confuction Matrix to analyze the results of the new\n",
    "network."
   ]
  },
  {
   "cell_type": "code",
   "execution_count": 81,
   "id": "a692b7d8-739e-4d4b-9aec-70e49a19fb2d",
   "metadata": {},
   "outputs": [
    {
     "name": "stdout",
     "output_type": "stream",
     "text": [
      "51/51 [==============================] - 0s 169us/step\n"
     ]
    },
    {
     "data": {
      "image/png": "[encoded data removed]",
      "text/plain": [
       "<Figure size 640x480 with 2 Axes>"
      ]
     },
     "metadata": {},
     "output_type": "display_data"
    }
   ],
   "source": [
    "# Get raw probability predictions\n",
    "y_pred_probs = model_pca.predict(x_test_pca)\n",
    "\n",
    "# Convert probabilities to binary predictions to be compatible with confusion matrix\n",
    "y_pred = (y_pred_probs > 0.5).astype(int).flatten()\n",
    "\n",
    "# Create Confusion Matrix\n",
    "import matplotlib.pyplot as plt\n",
    "from sklearn.metrics import confusion_matrix, ConfusionMatrixDisplay \n",
    "\n",
    "# Compute confusion matrix\n",
    "cm = confusion_matrix(y_test,y_pred)\n",
    "\n",
    "display = ConfusionMatrixDisplay(confusion_matrix=cm, display_labels=[\"Edible\", \"Poisonous\"]) \n",
    "display.plot(cmap='Blues')\n",
    "plt.show()"
   ]
  },
  {
   "cell_type": "code",
   "execution_count": 82,
   "id": "b4e8f129-44a9-4816-a628-eef4674d4c6f",
   "metadata": {},
   "outputs": [
    {
     "name": "stdout",
     "output_type": "stream",
     "text": [
      "Model: \"sequential_9\"\n",
      "_________________________________________________________________\n",
      " Layer (type)                Output Shape              Param #   \n",
      "=================================================================\n",
      " dense_18 (Dense)            (None, 16)                1872      \n",
      "                                                                 \n",
      " dense_19 (Dense)            (None, 1)                 17        \n",
      "                                                                 \n",
      "=================================================================\n",
      "Total params: 1,889\n",
      "Trainable params: 1,889\n",
      "Non-trainable params: 0\n",
      "_________________________________________________________________\n"
     ]
    }
   ],
   "source": [
    "# Compare first model's params\n",
    "model.summary()"
   ]
  },
  {
   "cell_type": "code",
   "execution_count": 83,
   "id": "1180053a-de7c-413f-b522-00827d5fae34",
   "metadata": {},
   "outputs": [
    {
     "name": "stdout",
     "output_type": "stream",
     "text": [
      "Model: \"sequential_10\"\n",
      "_________________________________________________________________\n",
      " Layer (type)                Output Shape              Param #   \n",
      "=================================================================\n",
      " dense_20 (Dense)            (None, 32)                1312      \n",
      "                                                                 \n",
      " dense_21 (Dense)            (None, 1)                 33        \n",
      "                                                                 \n",
      "=================================================================\n",
      "Total params: 1,345\n",
      "Trainable params: 1,345\n",
      "Non-trainable params: 0\n",
      "_________________________________________________________________\n"
     ]
    }
   ],
   "source": [
    "# Compare seconds model's params\n",
    "model_pca.summary()"
   ]
  },
  {
   "cell_type": "markdown",
   "id": "98c121be-ef34-43d2-a5d9-134741edf842",
   "metadata": {},
   "source": [
    "11. Export the PCA model."
   ]
  },
  {
   "cell_type": "code",
   "execution_count": 84,
   "id": "b15e2fee-daac-4f38-8afc-8bb3ede0e8fd",
   "metadata": {},
   "outputs": [],
   "source": [
    "model_pca.save('model_pca.h5')"
   ]
  },
  {
   "cell_type": "markdown",
   "id": "84ef9f2e-4c13-4b4e-b471-b0b03c6a5482",
   "metadata": {},
   "source": [
    "#### Conclusion\n",
    "The PCA model was able to achieve a comparable accuracy while using fewer features—which can improve efficiency and reduce overfitting risks. During PCA, redundant features are reduced and noise is removed. The PCA model was also a bit more computationally efficient, taking less time to train the model. \n",
    "\n",
    "If I was working with a dataset with a lot of noise and many columns, or one where I need to cut down training time, I would use PCA."
   ]
  }
 ],
 "metadata": {
  "kernelspec": {
   "display_name": "dtsc680",
   "language": "python",
   "name": "dtsc680"
  },
  "language_info": {
   "codemirror_mode": {
    "name": "ipython",
    "version": 3
   },
   "file_extension": ".py",
   "mimetype": "text/x-python",
   "name": "python",
   "nbconvert_exporter": "python",
   "pygments_lexer": "ipython3",
   "version": "3.8.20"
  }
 },
 "nbformat": 4,
 "nbformat_minor": 5
}
