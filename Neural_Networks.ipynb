{
 "cells": [
  {
   "cell_type": "markdown",
   "id": "01375c32",
   "metadata": {
    "id": "01375c32"
   },
   "source": [
    "# Neural Networks\n",
    "\n",
    "#### Dealing with dataset imbalance for a binary classification model\n",
    "\n",
    "## By Brea Koenes"
   ]
  },
  {
   "cell_type": "markdown",
   "id": "b249b051",
   "metadata": {
    "id": "b249b051"
   },
   "source": [
    "### Overview\n",
    "\n",
    "I create a neural network to perform a binary classification on a coronavirus dataset."
   ]
  },
  {
   "cell_type": "markdown",
   "id": "8dbf0f7d-26f2-4b72-b448-62c1c6c13699",
   "metadata": {},
   "source": [
    "### Imports"
   ]
  },
  {
   "cell_type": "code",
   "execution_count": 2,
   "id": "2f74ef67-3fac-48d6-bce7-980ae2618d9e",
   "metadata": {},
   "outputs": [],
   "source": [
    "# Imports\n",
    "import subprocess\n",
    "import sys\n",
    "from IPython.display import clear_output\n",
    "import numpy as np\n",
    "import pandas as pd\n",
    "import sklearn\n",
    "import tensorflow\n",
    "\n",
    "# For splitting datasets\n",
    "from sklearn.model_selection import train_test_split\n",
    "\n",
    "# For building neural networks\n",
    "from tensorflow.keras.models import Sequential\n",
    "from tensorflow.keras.layers import Dense"
   ]
  },
  {
   "cell_type": "markdown",
   "id": "824bea7e",
   "metadata": {
    "id": "824bea7e"
   },
   "source": [
    "### Data Prep\n",
    "\n",
    "The coronavirus dataset is included in the `corona.csv` file. Read the data into a pandas DataFrame called `covid`."
   ]
  },
  {
   "cell_type": "code",
   "execution_count": 3,
   "id": "39666a7f",
   "metadata": {
    "id": "39666a7f",
    "outputId": "be617626-a0a7-43db-8f3a-e1e576912410"
   },
   "outputs": [
    {
     "name": "stderr",
     "output_type": "stream",
     "text": [
      "/var/folders/4b/b70j92ld2vn9nmjfb_8tgdgh0000gp/T/ipykernel_56270/1055299547.py:2: DtypeWarning: Columns (2,3,4,5,6,8) have mixed types. Specify dtype option on import or set low_memory=False.\n",
      "  covid = pd.read_csv(\"corona.csv\", encoding='utf-8')\n"
     ]
    },
    {
     "data": {
      "text/html": [
       "<div>\n",
       "<style scoped>\n",
       "    .dataframe tbody tr th:only-of-type {\n",
       "        vertical-align: middle;\n",
       "    }\n",
       "\n",
       "    .dataframe tbody tr th {\n",
       "        vertical-align: top;\n",
       "    }\n",
       "\n",
       "    .dataframe thead th {\n",
       "        text-align: right;\n",
       "    }\n",
       "</style>\n",
       "<table border=\"1\" class=\"dataframe\">\n",
       "  <thead>\n",
       "    <tr style=\"text-align: right;\">\n",
       "      <th></th>\n",
       "      <th>Ind_ID</th>\n",
       "      <th>Test_date</th>\n",
       "      <th>Cough_symptoms</th>\n",
       "      <th>Fever</th>\n",
       "      <th>Sore_throat</th>\n",
       "      <th>Shortness_of_breath</th>\n",
       "      <th>Headache</th>\n",
       "      <th>Corona</th>\n",
       "      <th>Age_60_above</th>\n",
       "      <th>Sex</th>\n",
       "      <th>Known_contact</th>\n",
       "    </tr>\n",
       "  </thead>\n",
       "  <tbody>\n",
       "    <tr>\n",
       "      <th>0</th>\n",
       "      <td>1</td>\n",
       "      <td>11-03-2020</td>\n",
       "      <td>True</td>\n",
       "      <td>False</td>\n",
       "      <td>True</td>\n",
       "      <td>False</td>\n",
       "      <td>False</td>\n",
       "      <td>negative</td>\n",
       "      <td>NaN</td>\n",
       "      <td>NaN</td>\n",
       "      <td>Abroad</td>\n",
       "    </tr>\n",
       "    <tr>\n",
       "      <th>1</th>\n",
       "      <td>2</td>\n",
       "      <td>11-03-2020</td>\n",
       "      <td>False</td>\n",
       "      <td>True</td>\n",
       "      <td>False</td>\n",
       "      <td>False</td>\n",
       "      <td>False</td>\n",
       "      <td>positive</td>\n",
       "      <td>NaN</td>\n",
       "      <td>NaN</td>\n",
       "      <td>Abroad</td>\n",
       "    </tr>\n",
       "    <tr>\n",
       "      <th>2</th>\n",
       "      <td>3</td>\n",
       "      <td>11-03-2020</td>\n",
       "      <td>False</td>\n",
       "      <td>True</td>\n",
       "      <td>False</td>\n",
       "      <td>False</td>\n",
       "      <td>False</td>\n",
       "      <td>positive</td>\n",
       "      <td>NaN</td>\n",
       "      <td>NaN</td>\n",
       "      <td>Abroad</td>\n",
       "    </tr>\n",
       "    <tr>\n",
       "      <th>3</th>\n",
       "      <td>4</td>\n",
       "      <td>11-03-2020</td>\n",
       "      <td>True</td>\n",
       "      <td>False</td>\n",
       "      <td>False</td>\n",
       "      <td>False</td>\n",
       "      <td>False</td>\n",
       "      <td>negative</td>\n",
       "      <td>NaN</td>\n",
       "      <td>NaN</td>\n",
       "      <td>Abroad</td>\n",
       "    </tr>\n",
       "    <tr>\n",
       "      <th>4</th>\n",
       "      <td>5</td>\n",
       "      <td>11-03-2020</td>\n",
       "      <td>True</td>\n",
       "      <td>False</td>\n",
       "      <td>False</td>\n",
       "      <td>False</td>\n",
       "      <td>False</td>\n",
       "      <td>negative</td>\n",
       "      <td>NaN</td>\n",
       "      <td>NaN</td>\n",
       "      <td>Contact with confirmed</td>\n",
       "    </tr>\n",
       "    <tr>\n",
       "      <th>...</th>\n",
       "      <td>...</td>\n",
       "      <td>...</td>\n",
       "      <td>...</td>\n",
       "      <td>...</td>\n",
       "      <td>...</td>\n",
       "      <td>...</td>\n",
       "      <td>...</td>\n",
       "      <td>...</td>\n",
       "      <td>...</td>\n",
       "      <td>...</td>\n",
       "      <td>...</td>\n",
       "    </tr>\n",
       "    <tr>\n",
       "      <th>278843</th>\n",
       "      <td>278844</td>\n",
       "      <td>30-04-2020</td>\n",
       "      <td>False</td>\n",
       "      <td>False</td>\n",
       "      <td>False</td>\n",
       "      <td>False</td>\n",
       "      <td>False</td>\n",
       "      <td>positive</td>\n",
       "      <td>NaN</td>\n",
       "      <td>male</td>\n",
       "      <td>Other</td>\n",
       "    </tr>\n",
       "    <tr>\n",
       "      <th>278844</th>\n",
       "      <td>278845</td>\n",
       "      <td>30-04-2020</td>\n",
       "      <td>False</td>\n",
       "      <td>False</td>\n",
       "      <td>False</td>\n",
       "      <td>False</td>\n",
       "      <td>False</td>\n",
       "      <td>negative</td>\n",
       "      <td>NaN</td>\n",
       "      <td>female</td>\n",
       "      <td>Other</td>\n",
       "    </tr>\n",
       "    <tr>\n",
       "      <th>278845</th>\n",
       "      <td>278846</td>\n",
       "      <td>30-04-2020</td>\n",
       "      <td>False</td>\n",
       "      <td>False</td>\n",
       "      <td>False</td>\n",
       "      <td>False</td>\n",
       "      <td>False</td>\n",
       "      <td>negative</td>\n",
       "      <td>NaN</td>\n",
       "      <td>male</td>\n",
       "      <td>Other</td>\n",
       "    </tr>\n",
       "    <tr>\n",
       "      <th>278846</th>\n",
       "      <td>278847</td>\n",
       "      <td>30-04-2020</td>\n",
       "      <td>False</td>\n",
       "      <td>False</td>\n",
       "      <td>False</td>\n",
       "      <td>False</td>\n",
       "      <td>False</td>\n",
       "      <td>negative</td>\n",
       "      <td>NaN</td>\n",
       "      <td>male</td>\n",
       "      <td>Other</td>\n",
       "    </tr>\n",
       "    <tr>\n",
       "      <th>278847</th>\n",
       "      <td>278848</td>\n",
       "      <td>30-04-2020</td>\n",
       "      <td>False</td>\n",
       "      <td>False</td>\n",
       "      <td>False</td>\n",
       "      <td>False</td>\n",
       "      <td>False</td>\n",
       "      <td>negative</td>\n",
       "      <td>NaN</td>\n",
       "      <td>female</td>\n",
       "      <td>Other</td>\n",
       "    </tr>\n",
       "  </tbody>\n",
       "</table>\n",
       "<p>278848 rows × 11 columns</p>\n",
       "</div>"
      ],
      "text/plain": [
       "        Ind_ID   Test_date Cough_symptoms  Fever Sore_throat  \\\n",
       "0            1  11-03-2020           True  False        True   \n",
       "1            2  11-03-2020          False   True       False   \n",
       "2            3  11-03-2020          False   True       False   \n",
       "3            4  11-03-2020           True  False       False   \n",
       "4            5  11-03-2020           True  False       False   \n",
       "...        ...         ...            ...    ...         ...   \n",
       "278843  278844  30-04-2020          False  False       False   \n",
       "278844  278845  30-04-2020          False  False       False   \n",
       "278845  278846  30-04-2020          False  False       False   \n",
       "278846  278847  30-04-2020          False  False       False   \n",
       "278847  278848  30-04-2020          False  False       False   \n",
       "\n",
       "       Shortness_of_breath Headache    Corona Age_60_above     Sex  \\\n",
       "0                    False    False  negative          NaN     NaN   \n",
       "1                    False    False  positive          NaN     NaN   \n",
       "2                    False    False  positive          NaN     NaN   \n",
       "3                    False    False  negative          NaN     NaN   \n",
       "4                    False    False  negative          NaN     NaN   \n",
       "...                    ...      ...       ...          ...     ...   \n",
       "278843               False    False  positive          NaN    male   \n",
       "278844               False    False  negative          NaN  female   \n",
       "278845               False    False  negative          NaN    male   \n",
       "278846               False    False  negative          NaN    male   \n",
       "278847               False    False  negative          NaN  female   \n",
       "\n",
       "                 Known_contact  \n",
       "0                       Abroad  \n",
       "1                       Abroad  \n",
       "2                       Abroad  \n",
       "3                       Abroad  \n",
       "4       Contact with confirmed  \n",
       "...                        ...  \n",
       "278843                   Other  \n",
       "278844                   Other  \n",
       "278845                   Other  \n",
       "278846                   Other  \n",
       "278847                   Other  \n",
       "\n",
       "[278848 rows x 11 columns]"
      ]
     },
     "execution_count": 3,
     "metadata": {},
     "output_type": "execute_result"
    }
   ],
   "source": [
    "# STUDENTS CODE\n",
    "covid = pd.read_csv(\"corona.csv\", encoding='utf-8')\n",
    "covid"
   ]
  },
  {
   "cell_type": "markdown",
   "id": "37e72376",
   "metadata": {
    "id": "37e72376"
   },
   "source": [
    "Clean and preprocess the data:\n",
    "- Drop NULL values.\n",
    "- Change the datatypes of each column to binary, float64 columns.\n",
    "- Drop rows where the value in the `Corona` column is `other`.\n",
    "- Split the dataframe into 2: `symptoms`, which contains the features of the dataset, and `diagnosis`, which contains only the target column, `Corona`.\n",
    "- Generate `x_train`, `x_test`, `y_train`, and `y_test`. Reserve 20% of the data for testing and set the `stratify` parameter to `diagnosis`."
   ]
  },
  {
   "cell_type": "code",
   "execution_count": 4,
   "id": "a563cdbc",
   "metadata": {
    "id": "a563cdbc",
    "outputId": "87dae8df-7959-4c85-b9de-642deef31802"
   },
   "outputs": [
    {
     "name": "stdout",
     "output_type": "stream",
     "text": [
      "Ind_ID                 0\n",
      "Test_date              0\n",
      "Cough_symptoms         0\n",
      "Fever                  0\n",
      "Sore_throat            0\n",
      "Shortness_of_breath    0\n",
      "Headache               0\n",
      "Corona                 0\n",
      "Age_60_above           0\n",
      "Sex                    0\n",
      "Known_contact          0\n",
      "dtype: int64\n"
     ]
    }
   ],
   "source": [
    "# Drop nulls\n",
    "covid = covid.dropna()\n",
    "\n",
    "# Check\n",
    "print(covid.isna().sum())"
   ]
  },
  {
   "cell_type": "code",
   "execution_count": 5,
   "id": "e97ca7c8-d7df-4639-9133-905ecedb3944",
   "metadata": {},
   "outputs": [
    {
     "name": "stdout",
     "output_type": "stream",
     "text": [
      "Unique values in 'Ind_ID': [ 13728  13729  13731 ... 156038 156039 156040]\n",
      "Unique values in 'Test_date': ['22-03-2020' '23-03-2020' '24-03-2020' '25-03-2020' '26-03-2020'\n",
      " '27-03-2020' '28-03-2020' '29-03-2020' '30-03-2020' '31-03-2020'\n",
      " '01-04-2020' '02-04-2020' '03-04-2020' '04-04-2020' '05-04-2020'\n",
      " '06-04-2020' '07-04-2020' '08-04-2020' '09-04-2020' '10-04-2020'\n",
      " '11-04-2020' '12-04-2020' '13-04-2020' '14-04-2020']\n",
      "Unique values in 'Cough_symptoms': [True False]\n",
      "Unique values in 'Fever': [False True]\n",
      "Unique values in 'Sore_throat': [False True]\n",
      "Unique values in 'Shortness_of_breath': [False True]\n",
      "Unique values in 'Headache': [False True]\n",
      "Unique values in 'Corona': ['negative' 'positive' 'other']\n",
      "Unique values in 'Age_60_above': ['No' 'Yes']\n",
      "Unique values in 'Sex': ['male' 'female']\n",
      "Unique values in 'Known_contact': ['Abroad' 'Other' 'Contact with confirmed']\n"
     ]
    }
   ],
   "source": [
    "# Check for columns that have binary rows\n",
    "for column in covid.columns:\n",
    "    print(f\"Unique values in '{column}': {covid[column].unique()}\")"
   ]
  },
  {
   "cell_type": "code",
   "execution_count": 6,
   "id": "434eed8d-2827-40b8-9960-d37ec3be73f7",
   "metadata": {},
   "outputs": [],
   "source": [
    "# Convert columns to binary (float64)\n",
    "true_false_columns = ['Cough_symptoms', 'Fever', 'Sore_throat', 'Shortness_of_breath', 'Headache']\n",
    "covid.loc[:, true_false_columns] = covid[true_false_columns].replace({'True': 1.0, 'False': 0.0}).astype('float64')\n",
    "\n",
    "covid.loc[:, 'Age_60_above'] = covid['Age_60_above'].replace({'Yes': 1, 'No': 0}).astype(float)\n",
    "covid.loc[:, 'Sex'] = covid['Sex'].replace({'male': 1, 'female': 0}).astype(float)\n",
    "\n",
    "covid = covid[covid['Known_contact'] != 'Other']\n",
    "\n",
    "covid.loc[:, 'Known_contact'] = covid['Known_contact'].replace({'Abroad': 0, 'Contact with confirmed': 1}).astype(float)\n",
    "\n",
    "covid = covid[covid['Corona'] != 'other']\n",
    "covid.loc[:, 'Corona'] = covid['Corona'].replace({'positive': 1.0, 'negative': 0.0}).astype('float64')\n",
    "\n",
    "# Split the data into features and target \n",
    "symptoms = covid[['Cough_symptoms', 'Fever', 'Sore_throat', 'Shortness_of_breath', 'Sex', 'Headache', 'Known_contact', 'Age_60_above']].astype('float64')\n",
    "diagnosis = covid['Corona'].astype('float64')\n",
    "\n",
    "# Convert to numpy arrays\n",
    "x = symptoms.values  # Features\n",
    "y = diagnosis.values  # Target\n",
    "\n",
    "# Split the data into training and testing sets\n",
    "from sklearn.model_selection import train_test_split\n",
    "\n",
    "x_train, x_test, y_train, y_test = train_test_split(x, y, test_size=0.2, stratify=y, random_state=42)"
   ]
  },
  {
   "cell_type": "markdown",
   "id": "8021cf49",
   "metadata": {
    "id": "8021cf49"
   },
   "source": [
    "### Training the Binary Classifier\n",
    "\n",
    "Create a neural network for binary classification with the covid data, with one input layer and one output layer."
   ]
  },
  {
   "cell_type": "code",
   "execution_count": 7,
   "id": "8b2637e9",
   "metadata": {
    "id": "8b2637e9",
    "outputId": "2b337cb6-e0ab-4876-f483-f1626c694883"
   },
   "outputs": [],
   "source": [
    "# Create the model\n",
    "model = Sequential()\n",
    "model.add(Dense(128, input_dim=x_train.shape[1], activation='relu'))  # Input layer and hidden layer\n",
    "model.add(Dense(1, activation='sigmoid'))  # Output layer (binary classification)\n",
    "\n",
    "# Compile the model\n",
    "model.compile(loss='binary_crossentropy', optimizer='adam', metrics=['accuracy'])"
   ]
  },
  {
   "cell_type": "markdown",
   "id": "e921bb09",
   "metadata": {
    "id": "e921bb09"
   },
   "source": [
    "Use training and testing data to train the model. Plot the validation and training accuracy and the confusion matrix."
   ]
  },
  {
   "cell_type": "code",
   "execution_count": 8,
   "id": "0c24f19b",
   "metadata": {
    "id": "0c24f19b",
    "outputId": "77b9f64a-7e8e-4c4a-b18b-609492c61e21"
   },
   "outputs": [
    {
     "name": "stdout",
     "output_type": "stream",
     "text": [
      "Epoch 1/10\n",
      "  1/176 [..............................] - ETA: 33s - loss: 0.6642 - accuracy: 0.7200"
     ]
    },
    {
     "name": "stderr",
     "output_type": "stream",
     "text": [
      "2025-01-22 14:38:39.744847: W tensorflow/core/platform/profile_utils/cpu_utils.cc:128] Failed to get CPU frequency: 0 Hz\n"
     ]
    },
    {
     "name": "stdout",
     "output_type": "stream",
     "text": [
      "176/176 [==============================] - 0s 604us/step - loss: 0.4312 - accuracy: 0.8425 - val_loss: 0.3502 - val_accuracy: 0.8642\n",
      "Epoch 2/10\n",
      "176/176 [==============================] - 0s 314us/step - loss: 0.3362 - accuracy: 0.8695 - val_loss: 0.3408 - val_accuracy: 0.8683\n",
      "Epoch 3/10\n",
      "176/176 [==============================] - 0s 302us/step - loss: 0.3322 - accuracy: 0.8712 - val_loss: 0.3386 - val_accuracy: 0.8683\n",
      "Epoch 4/10\n",
      "176/176 [==============================] - 0s 300us/step - loss: 0.3307 - accuracy: 0.8719 - val_loss: 0.3371 - val_accuracy: 0.8696\n",
      "Epoch 5/10\n",
      "176/176 [==============================] - 0s 302us/step - loss: 0.3300 - accuracy: 0.8721 - val_loss: 0.3379 - val_accuracy: 0.8696\n",
      "Epoch 6/10\n",
      "176/176 [==============================] - 0s 305us/step - loss: 0.3291 - accuracy: 0.8725 - val_loss: 0.3370 - val_accuracy: 0.8696\n",
      "Epoch 7/10\n",
      "176/176 [==============================] - 0s 296us/step - loss: 0.3286 - accuracy: 0.8724 - val_loss: 0.3348 - val_accuracy: 0.8696\n",
      "Epoch 8/10\n",
      "176/176 [==============================] - 0s 296us/step - loss: 0.3279 - accuracy: 0.8724 - val_loss: 0.3355 - val_accuracy: 0.8696\n",
      "Epoch 9/10\n",
      "176/176 [==============================] - 0s 297us/step - loss: 0.3279 - accuracy: 0.8724 - val_loss: 0.3346 - val_accuracy: 0.8696\n",
      "Epoch 10/10\n",
      "176/176 [==============================] - 0s 301us/step - loss: 0.3268 - accuracy: 0.8724 - val_loss: 0.3352 - val_accuracy: 0.8696\n"
     ]
    }
   ],
   "source": [
    "# Train the model\n",
    "hist = model.fit(x_train, y_train, \n",
    "                    epochs=10, \n",
    "                    batch_size=100, \n",
    "                    validation_data=(x_test, y_test),\n",
    "                    verbose=1)"
   ]
  },
  {
   "cell_type": "code",
   "execution_count": 9,
   "id": "6e617d51-cd87-4e1a-a1d5-ce2478faef82",
   "metadata": {},
   "outputs": [
    {
     "name": "stdout",
     "output_type": "stream",
     "text": [
      "{'loss': [0.4311615526676178, 0.3362211585044861, 0.3321753144264221, 0.3307146728038788, 0.3299873173236847, 0.32907113432884216, 0.3285982012748718, 0.32790714502334595, 0.3278546631336212, 0.32683584094047546], 'accuracy': [0.8425461649894714, 0.8695008158683777, 0.8711534142494202, 0.8718942403793335, 0.8721221685409546, 0.872464120388031, 0.8724071383476257, 0.8724071383476257, 0.8724071383476257, 0.8723500967025757], 'val_loss': [0.3502226173877716, 0.34075894951820374, 0.3385748565196991, 0.3370833992958069, 0.33789345622062683, 0.3369944095611572, 0.334826797246933, 0.3354950249195099, 0.33457082509994507, 0.3351745307445526], 'val_accuracy': [0.864175021648407, 0.8682771325111389, 0.8682771325111389, 0.8696444630622864, 0.8696444630622864, 0.8696444630622864, 0.8696444630622864, 0.8696444630622864, 0.8696444630622864, 0.8696444630622864]}\n"
     ]
    }
   ],
   "source": [
    "print(hist.history)"
   ]
  },
  {
   "cell_type": "code",
   "execution_count": 10,
   "id": "012875cb",
   "metadata": {
    "id": "012875cb",
    "outputId": "80f0909c-aabc-4d91-e27e-184e643e175f"
   },
   "outputs": [
    {
     "data": {
      "text/plain": [
       "[]"
      ]
     },
     "execution_count": 10,
     "metadata": {},
     "output_type": "execute_result"
    },
    {
     "data": {
      "image/png": "[encoded data removed]",
      "text/plain": [
       "<Figure size 640x480 with 1 Axes>"
      ]
     },
     "metadata": {},
     "output_type": "display_data"
    }
   ],
   "source": [
    "# Plot accuracy\n",
    "%matplotlib inline\n",
    "import matplotlib.pyplot as plt\n",
    "import seaborn as sns\n",
    "sns.set()\n",
    "\n",
    "acc = hist.history['accuracy']\n",
    "val = hist.history['val_accuracy']\n",
    "epochs = range(1, len(acc) + 1)\n",
    "\n",
    "plt.plot(epochs, acc, '-', label='Training accuracy')\n",
    "plt.plot(epochs, val, ':', label='Validation accuracy')\n",
    "plt.title('Training and Validation Accuracy')\n",
    "plt.xlabel('Epoch')\n",
    "plt.ylabel('Accuracy')\n",
    "plt.legend(loc='lower right')\n",
    "plt.plot()"
   ]
  },
  {
   "cell_type": "code",
   "execution_count": 11,
   "id": "de454d49",
   "metadata": {
    "id": "de454d49",
    "outputId": "909da9a4-c3ed-40ec-eb7d-f875ed82331e"
   },
   "outputs": [
    {
     "name": "stdout",
     "output_type": "stream",
     "text": [
      "138/138 [==============================] - 0s 156us/step\n",
      "Accuracy: 0.8696\n",
      "Recall: 0.7598\n",
      "F1 Score: 0.7759\n",
      "Precision: 0.7926\n"
     ]
    },
    {
     "data": {
      "text/plain": [
       "<sklearn.metrics._plot.confusion_matrix.ConfusionMatrixDisplay at 0x15fb0edc0>"
      ]
     },
     "execution_count": 11,
     "metadata": {},
     "output_type": "execute_result"
    },
    {
     "data": {
      "image/png": "[encoded data removed]",
      "text/plain": [
       "<Figure size 640x480 with 2 Axes>"
      ]
     },
     "metadata": {},
     "output_type": "display_data"
    }
   ],
   "source": [
    "# Plot confusion matrix\n",
    "from sklearn.metrics import ConfusionMatrixDisplay as cmd\n",
    "from sklearn.metrics import accuracy_score, recall_score, f1_score, precision_score, ConfusionMatrixDisplay\n",
    "\n",
    "\n",
    "sns.reset_orig()\n",
    "y_predicted = model.predict(x_test) > 0.5\n",
    "\n",
    "accuracy = accuracy_score(y_test, y_predicted)\n",
    "recall = recall_score(y_test, y_predicted)\n",
    "f1 = f1_score(y_test, y_predicted)\n",
    "precision = precision_score(y_test, y_predicted)\n",
    "\n",
    "print(f\"Accuracy: {accuracy:.4f}\")\n",
    "print(f\"Recall: {recall:.4f}\")\n",
    "print(f\"F1 Score: {f1:.4f}\")\n",
    "print(f\"Precision: {precision:.4f}\")\n",
    "\n",
    "\n",
    "labels = ['Negative', 'Positive']\n",
    "cmd.from_predictions(y_test, y_predicted, display_labels=labels, cmap='Blues', xticks_rotation='vertical')"
   ]
  },
  {
   "cell_type": "markdown",
   "id": "88edac51",
   "metadata": {
    "id": "88edac51"
   },
   "source": [
    "This confusion matrix makes it clear that we have more false negative diagnoses than false positive diagnoses. That's not what we want, so I'll take a closer look at the data."
   ]
  },
  {
   "cell_type": "markdown",
   "id": "a0295af8",
   "metadata": {},
   "source": [
    "### Dealing with Dataset Imbalance\n",
    "\n",
    "Look at the `value_counts` for the `Corona` column in the original `covid` dataset."
   ]
  },
  {
   "cell_type": "code",
   "execution_count": 12,
   "id": "ccafc958",
   "metadata": {},
   "outputs": [
    {
     "data": {
      "text/plain": [
       "Corona\n",
       "0.0    15420\n",
       "1.0     6516\n",
       "Name: count, dtype: int64"
      ]
     },
     "execution_count": 12,
     "metadata": {},
     "output_type": "execute_result"
    }
   ],
   "source": [
    "covid['Corona'].value_counts()"
   ]
  },
  {
   "cell_type": "markdown",
   "id": "3143ef36",
   "metadata": {
    "id": "3143ef36"
   },
   "source": [
    "There is an imbalance in our data. I'll retrain the neural network for binary classification, and this time use the `class_weights` paramater of the `.fit()` method to try and handle the imbalanced nature of the data.\n",
    "\n",
    "Compute the class weight for each of the classes and store them in a dictionary where the key is the binary value representing the class and the value is that class' weight. Then, retrain the neural network with the `class_weight` set to the dictionary. Plot the accuracy and confusion matrix."
   ]
  },
  {
   "cell_type": "code",
   "execution_count": 13,
   "id": "978c6309",
   "metadata": {
    "id": "978c6309",
    "outputId": "59f0a5b2-18de-4c59-b8c4-29f042682446"
   },
   "outputs": [
    {
     "name": "stdout",
     "output_type": "stream",
     "text": [
      "Class weights: {0: 0.711284046692607, 1: 1.6832412523020257}\n",
      "Epoch 1/10\n",
      "176/176 [==============================] - 0s 397us/step - loss: 0.3738 - accuracy: 0.8541 - val_loss: 0.3707 - val_accuracy: 0.8457\n",
      "Epoch 2/10\n",
      "176/176 [==============================] - 0s 319us/step - loss: 0.3699 - accuracy: 0.8537 - val_loss: 0.3605 - val_accuracy: 0.8457\n",
      "Epoch 3/10\n",
      "176/176 [==============================] - 0s 314us/step - loss: 0.3700 - accuracy: 0.8537 - val_loss: 0.3660 - val_accuracy: 0.8457\n",
      "Epoch 4/10\n",
      "176/176 [==============================] - 0s 317us/step - loss: 0.3694 - accuracy: 0.8537 - val_loss: 0.3655 - val_accuracy: 0.8478\n",
      "Epoch 5/10\n",
      "176/176 [==============================] - 0s 316us/step - loss: 0.3698 - accuracy: 0.8538 - val_loss: 0.3717 - val_accuracy: 0.8457\n",
      "Epoch 6/10\n",
      "176/176 [==============================] - 0s 316us/step - loss: 0.3694 - accuracy: 0.8537 - val_loss: 0.3818 - val_accuracy: 0.8457\n",
      "Epoch 7/10\n",
      "176/176 [==============================] - 0s 315us/step - loss: 0.3695 - accuracy: 0.8536 - val_loss: 0.3853 - val_accuracy: 0.8457\n",
      "Epoch 8/10\n",
      "176/176 [==============================] - 0s 314us/step - loss: 0.3691 - accuracy: 0.8537 - val_loss: 0.3882 - val_accuracy: 0.8457\n",
      "Epoch 9/10\n",
      "176/176 [==============================] - 0s 318us/step - loss: 0.3695 - accuracy: 0.8537 - val_loss: 0.3741 - val_accuracy: 0.8457\n",
      "Epoch 10/10\n",
      "176/176 [==============================] - 0s 317us/step - loss: 0.3696 - accuracy: 0.8537 - val_loss: 0.3708 - val_accuracy: 0.8457\n"
     ]
    }
   ],
   "source": [
    "# Compute the class frequencies\n",
    "class_counts = covid['Corona'].value_counts()\n",
    "n_samples = len(covid)\n",
    "n_classes = 2  # Binary classification\n",
    "\n",
    "# Calculate the class weights based on the formula\n",
    "class_weights = {0: n_samples / (n_classes * class_counts[0]),  # For 'negative' class\n",
    "                 1: n_samples / (n_classes * class_counts[1])}  # For 'positive' class\n",
    "\n",
    "print(\"Class weights:\", class_weights)\n",
    "\n",
    "# Train the model with class_weights\n",
    "hist = model.fit(x_train, y_train, \n",
    "                 epochs=10, \n",
    "                 batch_size=100, \n",
    "                 validation_data=(x_test, y_test),\n",
    "                 class_weight=class_weights,  # Add class weights here\n",
    "                 verbose=1)"
   ]
  },
  {
   "cell_type": "code",
   "execution_count": 14,
   "id": "a6877772",
   "metadata": {
    "id": "a6877772",
    "outputId": "2d1b841c-4321-41b2-b304-a63b8bb448fc"
   },
   "outputs": [
    {
     "data": {
      "text/plain": [
       "[]"
      ]
     },
     "execution_count": 14,
     "metadata": {},
     "output_type": "execute_result"
    },
    {
     "data": {
      "image/png": "[encoded data removed]",
      "text/plain": [
       "<Figure size 640x480 with 1 Axes>"
      ]
     },
     "metadata": {},
     "output_type": "display_data"
    }
   ],
   "source": [
    "# Plot accuracy\n",
    "%matplotlib inline\n",
    "import matplotlib.pyplot as plt\n",
    "import seaborn as sns\n",
    "sns.set()\n",
    "\n",
    "acc = hist.history['accuracy']\n",
    "val = hist.history['val_accuracy']\n",
    "epochs = range(1, len(acc) + 1)\n",
    "\n",
    "plt.plot(epochs, acc, '-', label='Training accuracy')\n",
    "plt.plot(epochs, val, ':', label='Validation accuracy')\n",
    "plt.title('Training and Validation Accuracy')\n",
    "plt.xlabel('Epoch')\n",
    "plt.ylabel('Accuracy')\n",
    "plt.legend(loc='lower right')\n",
    "plt.plot()"
   ]
  },
  {
   "cell_type": "code",
   "execution_count": 15,
   "id": "0e75f63e",
   "metadata": {
    "id": "0e75f63e",
    "outputId": "c0e5f6ee-9192-4846-d254-468cd850b3da"
   },
   "outputs": [
    {
     "name": "stdout",
     "output_type": "stream",
     "text": [
      "138/138 [==============================] - 0s 152us/step\n",
      "Accuracy: 0.8457\n",
      "Recall: 0.8573\n",
      "F1 Score: 0.7674\n",
      "Precision: 0.6947\n"
     ]
    },
    {
     "data": {
      "text/plain": [
       "<sklearn.metrics._plot.confusion_matrix.ConfusionMatrixDisplay at 0x176f1d8e0>"
      ]
     },
     "execution_count": 15,
     "metadata": {},
     "output_type": "execute_result"
    },
    {
     "data": {
      "image/png": "[encoded data removed]",
      "text/plain": [
       "<Figure size 640x480 with 2 Axes>"
      ]
     },
     "metadata": {},
     "output_type": "display_data"
    }
   ],
   "source": [
    "# Plot confusion matrix\n",
    "from sklearn.metrics import ConfusionMatrixDisplay as cmd\n",
    "from sklearn.metrics import accuracy_score, recall_score, f1_score, precision_score, ConfusionMatrixDisplay\n",
    "\n",
    "sns.reset_orig()\n",
    "y_predicted = model.predict(x_test) > 0.5\n",
    "\n",
    "accuracy = accuracy_score(y_test, y_predicted)\n",
    "recall = recall_score(y_test, y_predicted)\n",
    "f1 = f1_score(y_test, y_predicted)\n",
    "precision = precision_score(y_test, y_predicted)\n",
    "\n",
    "print(f\"Accuracy: {accuracy:.4f}\")\n",
    "print(f\"Recall: {recall:.4f}\")\n",
    "print(f\"F1 Score: {f1:.4f}\")\n",
    "print(f\"Precision: {precision:.4f}\")\n",
    "\n",
    "labels = ['Negative', 'Positive']\n",
    "cmd.from_predictions(y_test, y_predicted, display_labels=labels, cmap='Blues', xticks_rotation='vertical')"
   ]
  },
  {
   "cell_type": "markdown",
   "id": "d5e38fb5",
   "metadata": {
    "id": "d5e38fb5"
   },
   "source": [
    "The retrained model performs much better: the number false negatives should be less than the number of false positives."
   ]
  },
  {
   "cell_type": "markdown",
   "id": "016af327-f8e6-48ce-b7fd-1ce3d31157eb",
   "metadata": {
    "id": "6159988c"
   },
   "source": [
    "### Export\n",
    "Export the symptoms and diagnosis datasets and model"
   ]
  },
  {
   "cell_type": "code",
   "execution_count": 16,
   "id": "4f66454b-0ab2-48a4-919e-f173a619f455",
   "metadata": {},
   "outputs": [],
   "source": [
    "import pickle\n",
    "\n",
    "# Save dataset to file\n",
    "with open('symptoms.pkl', 'wb') as file:\n",
    "    pickle.dump(symptoms , file)   \n",
    "\n",
    "with open('diagnosis.pkl', 'wb') as file:\n",
    "    pickle.dump(diagnosis , file)   "
   ]
  },
  {
   "cell_type": "code",
   "execution_count": 17,
   "id": "cbaecdfa-e40d-4079-8b66-afa5463fb834",
   "metadata": {},
   "outputs": [],
   "source": [
    "model.save('NN_BinayClass.h5')"
   ]
  }
 ],
 "metadata": {
  "colab": {
   "provenance": []
  },
  "kernelspec": {
   "display_name": "dtsc680",
   "language": "python",
   "name": "dtsc680"
  },
  "language_info": {
   "codemirror_mode": {
    "name": "ipython",
    "version": 3
   },
   "file_extension": ".py",
   "mimetype": "text/x-python",
   "name": "python",
   "nbconvert_exporter": "python",
   "pygments_lexer": "ipython3",
   "version": "3.8.20"
  }
 },
 "nbformat": 4,
 "nbformat_minor": 5
}
